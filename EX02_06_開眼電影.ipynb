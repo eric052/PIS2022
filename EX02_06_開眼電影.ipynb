{
  "nbformat": 4,
  "nbformat_minor": 0,
  "metadata": {
    "colab": {
      "provenance": [],
      "authorship_tag": "ABX9TyOzbq80XnHXn+BwlGgc89Rq",
      "include_colab_link": true
    },
    "kernelspec": {
      "name": "python3",
      "display_name": "Python 3"
    },
    "language_info": {
      "name": "python"
    }
  },
  "cells": [
    {
      "cell_type": "markdown",
      "metadata": {
        "id": "view-in-github",
        "colab_type": "text"
      },
      "source": [
        "<a href=\"https://colab.research.google.com/github/eric052/PIS2022/blob/main/EX02_06_%E9%96%8B%E7%9C%BC%E9%9B%BB%E5%BD%B1.ipynb\" target=\"_parent\"><img src=\"https://colab.research.google.com/assets/colab-badge.svg\" alt=\"Open In Colab\"/></a>"
      ]
    },
    {
      "cell_type": "code",
      "execution_count": null,
      "metadata": {
        "id": "gWjkQkO1VKC5",
        "colab": {
          "base_uri": "https://localhost:8080/"
        },
        "outputId": "f1cd71d9-299b-470a-b609-5afea714410a"
      },
      "outputs": [
        {
          "output_type": "execute_result",
          "data": {
            "text/plain": [
              "<title>開眼電影網首頁--近期上映--</title>"
            ]
          },
          "metadata": {},
          "execution_count": 16
        }
      ],
      "source": [
        "import requests\n",
        "from bs4 import BeautifulSoup\n",
        "\n",
        "url = 'https://www.atmovies.com.tw/movie/next/'\n",
        "html = requests.get(url)\n",
        "html.encoding = 'utf-8'\n",
        "soup = BeautifulSoup(html.text,'lxml')\n",
        "soup.title"
      ]
    },
    {
      "cell_type": "code",
      "source": [
        "import os\n",
        "import csv\n",
        "\n",
        "if not os.path.exists('/content/movies'):\n",
        "  os.mkdir('/content/movies')\n",
        "\n",
        "movies = [['電影','上映日期']]\n",
        "\n",
        "for mv in soup.find('ul',class_='filmListAllX').find_all('li'):\n",
        "  ttl = mv.img['alt']\n",
        "  src = mv.img['src'].strip()\n",
        "  dat = mv.find('div',class_='runtime').text\n",
        "  movies.append([ttl,dat])\n",
        "  print(ttl,dat,src)\n",
        "\n",
        "  response = requests.get(src)\n",
        "\n",
        "  with open(f'/content/movies/{ttl}.jpg','wb') as f:\n",
        "    f.write(response.content)\n",
        "\n",
        "with open('/content/movies.csv','w',newline='') as f:\n",
        "  writer = csv.writer(f)\n",
        "  writer.writerows(movies)"
      ],
      "metadata": {
        "id": "68DES8u-VM8q",
        "colab": {
          "base_uri": "https://localhost:8080/"
        },
        "outputId": "5980bcee-6a15-4f3c-b696-da5e1a72be4a"
      },
      "execution_count": null,
      "outputs": [
        {
          "output_type": "stream",
          "name": "stdout",
          "text": [
            "我依然在此 上映日期：2025/04/02\n",
            "  片長：135分\t http://www.atmovies.com.tw/photo101/fipt14961016/pl_fipt14961016_0002.jpg\n",
            "MINECRAFT麥塊電影 上映日期：2025/04/02\n",
            "  片長：100分\t http://www.atmovies.com.tw/photo101/faen83566834/pl_faen83566834_0005.jpg\n",
            "會計師 2 上映日期：2025/04/24\n",
            "  片長：124分\t http://www.atmovies.com.tw/photo101/faen47068946/pl_faen47068946_0001.jpg\n",
            "直到黎明 上映日期：2025/04/25\n",
            "   http://www.atmovies.com.tw/photo101/fuen30955489/pl_fuen30955489_0001.jpg\n",
            "黑袋行動 上映日期：2025/04/30\n",
            "   http://www.atmovies.com.tw/photo101/fben30988739/pl_fben30988739_0001.jpg\n",
            "雷霆特攻隊* 上映日期：2025/04/30\n",
            "   http://www.atmovies.com.tw/photo101/ften20969586/pl_ften20969586_0005.jpg\n",
            "不可能的任務：最終清算 上映日期：2025/05/23\n",
            "   http://www.atmovies.com.tw/photo101/fmen62168299/pl_fmen62168299_0003.jpg\n",
            "馴龍高手 上映日期：2025/06/11\n",
            "\t\t\t\t\t\t   http://www.atmovies.com.tw/photo101/fhen26743210/pl_fhen26743210_0001.jpg\n",
            "天作之合 上映日期：2025/06/13\n",
            "\t\t\t\t\t\t   http://www.atmovies.com.tw/photo101/fmen30253473/pl_fmen30253473_0001.jpg\n",
            "28年毀滅倒數 上映日期：2025/06/18\n",
            "\t\t\t\t\t\t   http://www.atmovies.com.tw/photo101/fyen10548174/pl_fyen10548174_0001.jpg\n",
            "名偵探柯南：獨眼的殘像 上映日期：2025/06/25\n",
            "\t\t\t\t\t\t   http://www.atmovies.com.tw/photo101/fdjp35891502/pl_fdjp35891502_0001.jpg\n",
            "F1® 上映日期：2025/06/26\n",
            "\t\t\t\t\t\t   http://www.atmovies.com.tw/photo101/ffen16311594/pl_ffen16311594_0001.jpg\n",
            "窒友梅根 2.0 上映日期：2025/06/27\n",
            "\t\t\t\t\t\t   http://www.atmovies.com.tw/photo101/fmen26342662/pl_fmen26342662_0001.jpg\n",
            "侏羅紀世界：重生 上映日期：2025/07/04\n",
            "\t\t\t\t\t\t   http://www.atmovies.com.tw/photo101/fjen31036941/pl_fjen31036941_0001.jpg\n"
          ]
        }
      ]
    },
    {
      "cell_type": "code",
      "source": [],
      "metadata": {
        "id": "VvWyUam4cWgO"
      },
      "execution_count": null,
      "outputs": []
    }
  ]
}