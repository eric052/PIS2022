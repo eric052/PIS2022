{
  "nbformat": 4,
  "nbformat_minor": 0,
  "metadata": {
    "colab": {
      "provenance": [],
      "authorship_tag": "ABX9TyPIWly1cN8lF0z/x3OldqR3",
      "include_colab_link": true
    },
    "kernelspec": {
      "name": "python3",
      "display_name": "Python 3"
    },
    "language_info": {
      "name": "python"
    }
  },
  "cells": [
    {
      "cell_type": "markdown",
      "metadata": {
        "id": "view-in-github",
        "colab_type": "text"
      },
      "source": [
        "<a href=\"https://colab.research.google.com/github/eric052/PIS2022/blob/main/EX01_06_%E7%B0%A1%E6%98%93%E8%B3%BC%E7%89%A9%E8%BB%8A.ipynb\" target=\"_parent\"><img src=\"https://colab.research.google.com/assets/colab-badge.svg\" alt=\"Open In Colab\"/></a>"
      ]
    },
    {
      "cell_type": "code",
      "execution_count": 25,
      "metadata": {
        "colab": {
          "base_uri": "https://localhost:8080/"
        },
        "id": "xOFilMgeyBPe",
        "outputId": "a8ddf6a2-a415-4996-8253-4ace1d3834f0"
      },
      "outputs": [
        {
          "output_type": "stream",
          "name": "stdout",
          "text": [
            "商品欄: {'apple': 25, 'banana': 12, 'cherry': 30}\n",
            "購物車: ['apple', 'banana']\n",
            "功能列: 1.加入商品 2.移除商品 3.結帳 4.離開\n",
            "3\n",
            "結帳金額: 37\n"
          ]
        }
      ],
      "source": [
        "from IPython.display import clear_output\n",
        "shopping_cart = []\n",
        "products = { \"apple\": 25, \"banana\": 12, \"cherry\": 30 }\n",
        "while True:\n",
        "    clear_output()\n",
        "    print(\"商品欄:\",products)\n",
        "    print(\"購物車:\",shopping_cart)\n",
        "    print(\"功能列: 1.加入商品 2.移除商品 3.結帳 4.離開\")\n",
        "    t = int(input())\n",
        "\n",
        "    if t == 4:\n",
        "        break\n",
        "    elif t==1:\n",
        "        shopping_cart.append(input(\"請輸入商品名稱:\"))\n",
        "    elif t==2:\n",
        "        shopping_cart.remove(input(\"請輸入商品名稱:\"))\n",
        "    elif t==3:\n",
        "        total = 0\n",
        "        for item in shopping_cart:\n",
        "            total += products[item]\n",
        "        print(\"結帳金額:\",total)\n",
        "        break\n",
        "    elif t==4:\n",
        "        break\n",
        "    else:\n",
        "        print(\"輸入錯誤\")\n",
        "\n",
        "\n"
      ]
    }
  ]
}