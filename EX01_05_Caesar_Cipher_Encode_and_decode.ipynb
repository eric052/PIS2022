{
  "nbformat": 4,
  "nbformat_minor": 0,
  "metadata": {
    "colab": {
      "provenance": [],
      "authorship_tag": "ABX9TyNEoWaBiQ5XunKZoJzb6nMT",
      "include_colab_link": true
    },
    "kernelspec": {
      "name": "python3",
      "display_name": "Python 3"
    },
    "language_info": {
      "name": "python"
    }
  },
  "cells": [
    {
      "cell_type": "markdown",
      "metadata": {
        "id": "view-in-github",
        "colab_type": "text"
      },
      "source": [
        "<a href=\"https://colab.research.google.com/github/eric052/PIS2022/blob/main/EX01_05_Caesar_Cipher_Encode_and_decode.ipynb\" target=\"_parent\"><img src=\"https://colab.research.google.com/assets/colab-badge.svg\" alt=\"Open In Colab\"/></a>"
      ]
    },
    {
      "cell_type": "code",
      "source": [
        "keyy = input()\n",
        "text = input()\n",
        "\n",
        "keyy_type =keyy[0]\n",
        "key = int(keyy[1:])\n",
        "\n",
        "space = ''\n",
        "\n",
        "if keyy_type == 'd':\n",
        "  for c in text:\n",
        "    nc = ord(c)-key\n",
        "    space = space + chr(nc)\n",
        "else:\n",
        "  for c in text:\n",
        "    nc = ord(c)+key\n",
        "    space = space + chr(nc)\n",
        "\n",
        "print(space)"
      ],
      "metadata": {
        "colab": {
          "base_uri": "https://localhost:8080/"
        },
        "id": "D_WEUI6YDzcX",
        "outputId": "54bac8e7-43fd-4c7a-cae7-27111b8c24d5"
      },
      "execution_count": 6,
      "outputs": [
        {
          "output_type": "stream",
          "name": "stdout",
          "text": [
            "d8\n",
            "oi8werw6554\n",
            "ga0o]jo.--,\n"
          ]
        }
      ]
    }
  ]
}