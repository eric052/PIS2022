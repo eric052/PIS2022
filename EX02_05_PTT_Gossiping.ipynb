{
  "cells": [
    {
      "cell_type": "markdown",
      "metadata": {
        "id": "view-in-github",
        "colab_type": "text"
      },
      "source": [
        "<a href=\"https://colab.research.google.com/github/eric052/PIS2022/blob/main/EX02_05_PTT_Gossiping.ipynb\" target=\"_parent\"><img src=\"https://colab.research.google.com/assets/colab-badge.svg\" alt=\"Open In Colab\"/></a>"
      ]
    },
    {
      "cell_type": "markdown",
      "metadata": {
        "id": "z-nEhPq7-zp4"
      },
      "source": [
        "https://www.ptt.cc/bbs/Gossiping/index.html"
      ]
    },
    {
      "cell_type": "code",
      "execution_count": null,
      "metadata": {
        "colab": {
          "base_uri": "https://localhost:8080/"
        },
        "id": "UI3a6hHF4as9",
        "outputId": "b9f5f027-7b1f-4bcc-ed62-0b67b3fb898f"
      },
      "outputs": [
        {
          "data": {
            "text/plain": [
              "200"
            ]
          },
          "execution_count": 45,
          "metadata": {},
          "output_type": "execute_result"
        }
      ],
      "source": [
        "import requests\n",
        "from bs4 import BeautifulSoup\n",
        "\n",
        "url = 'https://www.ptt.cc/bbs/movie/index.html'\n",
        "response = requests.get(url)\n",
        "\n",
        "response.status_code"
      ]
    },
    {
      "cell_type": "code",
      "execution_count": null,
      "metadata": {
        "colab": {
          "base_uri": "https://localhost:8080/",
          "height": 139
        },
        "id": "ZUlJAoRm_VDr",
        "outputId": "902fd613-be14-417f-a4e6-574e384c07c8"
      },
      "outputs": [
        {
          "data": {
            "application/vnd.google.colaboratory.intrinsic+json": {
              "type": "string"
            },
            "text/plain": [
              "'<!DOCTYPE html>\\n<html>\\n\\t<head>\\n\\t\\t<meta charset=\"utf-8\">\\n\\t\\t\\n\\n<meta name=\"viewport\" content=\"width=device-width, initial-scale=1\">\\n\\n<title>看板 movie 文章列表 - 批踢踢實業坊</title>\\n\\n<link rel=\"stylesheet\" type=\"text/css\" href=\"//images.ptt.cc/bbs/v2.27/bbs-common.css\">\\n<link rel=\"stylesheet\" type=\"text/css\" href=\"//images.ptt.cc/bbs/v2.27/bbs-base.css\" media=\"screen\">\\n<link rel=\"stylesheet\" type=\"text/css\" href=\"//images.ptt.cc/bbs/v2.27/bbs-custom.css\">\\n<link rel=\"stylesheet\" type=\"text/css\" href=\"//images.ptt.cc/bbs/v2.27/pushstream.css\" media=\"screen\">\\n<link rel=\"stylesheet\" type=\"text/css\" href=\"//images.ptt.cc/bbs/v2.27/bbs-print.css\" media=\"print\">\\n\\n\\n\\n\\n\\n\\t</head>\\n    <body>\\n\\t\\t\\n<div id=\"topbar-container\">\\n\\t<div id=\"topbar\" class=\"bbs-content\">\\n\\t\\t<a id=\"logo\" href=\"/bbs/\">批踢踢實業坊</a>\\n\\t\\t<span>&rsaquo;</span>\\n\\t\\t<a class=\"board\" href=\"/bbs/movie/index.html\"><span class=\"board-label\">看板 </span>movie</a>\\n\\t\\t<a class=\"right small\" href=\"/about.html\">關於我們</a>\\n\\t\\t<a class=\"right small\" href=\"/contact.html\">聯絡資訊</a>\\n\\t</div>\\n</div>\\n\\n<div id=\"main-container\">\\n\\t<div id=\"action-bar-container\">\\n\\t\\t<div class=\"action-bar\">\\n\\t\\t\\t<div class=\"btn-group btn-group-dir\">\\n\\t\\t\\t\\t<a class=\"btn selected\" href=\"/bbs/movie/index.html\">看板</a>\\n\\t\\t\\t\\t<a class=\"btn\" href=\"/man/movie/index.html\">精華區</a>\\n\\t\\t\\t</div>\\n\\t\\t\\t<div class=\"btn-group btn-group-paging\">\\n\\t\\t\\t\\t<a class=\"btn wide\" href=\"/bbs/movie/index1.html\">最舊</a>\\n\\t\\t\\t\\t<a class=\"btn wide\" href=\"/bbs/movie/index10542.html\">&lsaquo; 上頁</a>\\n\\t\\t\\t\\t<a class=\"btn wide disabled\">下頁 &rsaquo;</a>\\n\\t\\t\\t\\t<a class=\"btn wide\" href=\"/bbs/movie/index.html\">最新</a>\\n\\t\\t\\t</div>\\n\\t\\t</div>\\n\\t</div>\\n\\n\\t<div class=\"r-list-container action-bar-margin bbs-screen\">\\n\\t\\t<div class=\"search-bar\">\\n\\t\\t\\t<form type=\"get\" action=\"search\" id=\"search-bar\">\\n\\t\\t\\t\\t<input class=\"query\" type=\"text\" name=\"q\" value=\"\" placeholder=\"搜尋文章&#x22ef;\">\\n\\t\\t\\t</form>\\n\\t\\t</div>\\n\\n\\t\\t\\n\\t\\t\\n            \\n        \\n        \\n\\t\\t<div class=\"r-ent\">\\n\\t\\t\\t<div class=\"nrec\"><span class=\"hl f2\">9</span></div>\\n\\t\\t\\t<div class=\"title\">\\n\\t\\t\\t\\n\\t\\t\\t\\t<a href=\"/bbs/movie/M.1742882992.A.C16.html\">[請益] 月老 原著比電影好看很多嗎?</a>\\n\\t\\t\\t\\n\\t\\t\\t</div>\\n\\t\\t\\t<div class=\"meta\">\\n\\t\\t\\t\\t<div class=\"author\">beatfuture</div>\\n\\t\\t\\t\\t<div class=\"article-menu\">\\n\\t\\t\\t\\t\\t\\n\\t\\t\\t\\t\\t<div class=\"trigger\">&#x22ef;</div>\\n\\t\\t\\t\\t\\t<div class=\"dropdown\">\\n\\t\\t\\t\\t\\t\\t<div class=\"item\"><a href=\"/bbs/movie/search?q=thread%3A%5B%E8%AB%8B%E7%9B%8A%5D&#43;%E6%9C%88%E8%80%81&#43;%E5%8E%9F%E8%91%97%E6%AF%94%E9%9B%BB%E5%BD%B1%E5%A5%BD%E7%9C%8B%E5%BE%88%E5%A4%9A%E5%97%8E%3F\">搜尋同標題文章</a></div>\\n\\t\\t\\t\\t\\t\\t\\n\\t\\t\\t\\t\\t\\t<div class=\"item\"><a href=\"/bbs/movie/search?q=author%3Abeatfuture\">搜尋看板內 beatfuture 的文章</a></div>\\n\\t\\t\\t\\t\\t\\t\\n\\t\\t\\t\\t\\t</div>\\n\\t\\t\\t\\t\\t\\n\\t\\t\\t\\t</div>\\n\\t\\t\\t\\t<div class=\"date\"> 3/25</div>\\n\\t\\t\\t\\t<div class=\"mark\"></div>\\n\\t\\t\\t</div>\\n\\t\\t</div>\\n\\n\\t\\t\\n            \\n        \\n        \\n\\t\\t<div class=\"r-ent\">\\n\\t\\t\\t<div class=\"nrec\"><span class=\"hl f2\">7</span></div>\\n\\t\\t\\t<div class=\"title\">\\n\\t\\t\\t\\n\\t\\t\\t\\t<a href=\"/bbs/movie/M.1742883654.A.D09.html\">[新聞] 星際寶貝選角太白爭議</a>\\n\\t\\t\\t\\n\\t\\t\\t</div>\\n\\t\\t\\t<div class=\"meta\">\\n\\t\\t\\t\\t<div class=\"author\">arsl400</div>\\n\\t\\t\\t\\t<div class=\"article-menu\">\\n\\t\\t\\t\\t\\t\\n\\t\\t\\t\\t\\t<div class=\"trigger\">&#x22ef;</div>\\n\\t\\t\\t\\t\\t<div class=\"dropdown\">\\n\\t\\t\\t\\t\\t\\t<div class=\"item\"><a href=\"/bbs/movie/search?q=thread%3A%5B%E6%96%B0%E8%81%9E%5D&#43;%E6%98%9F%E9%9A%9B%E5%AF%B6%E8%B2%9D%E9%81%B8%E8%A7%92%E5%A4%AA%E7%99%BD%E7%88%AD%E8%AD%B0\">搜尋同標題文章</a></div>\\n\\t\\t\\t\\t\\t\\t\\n\\t\\t\\t\\t\\t\\t<div class=\"item\"><a href=\"/bbs/movie/search?q=author%3Aarsl400\">搜尋看板內 arsl400 的文章</a></div>\\n\\t\\t\\t\\t\\t\\t\\n\\t\\t\\t\\t\\t</div>\\n\\t\\t\\t\\t\\t\\n\\t\\t\\t\\t</div>\\n\\t\\t\\t\\t<div class=\"date\"> 3/25</div>\\n\\t\\t\\t\\t<div class=\"mark\"></div>\\n\\t\\t\\t</div>\\n\\t\\t</div>\\n\\n\\t\\t\\n            \\n        \\n        \\n\\t\\t<div class=\"r-ent\">\\n\\t\\t\\t<div class=\"nrec\"><span class=\"hl f2\">3</span></div>\\n\\t\\t\\t<div class=\"title\">\\n\\t\\t\\t\\n\\t\\t\\t\\t<a href=\"/bbs/movie/M.1742885304.A.3BD.html\">[討論] 你最喜歡王家衛東邪西毒的哪個角色?</a>\\n\\t\\t\\t\\n\\t\\t\\t</div>\\n\\t\\t\\t<div class=\"meta\">\\n\\t\\t\\t\\t<div class=\"author\">dro001</div>\\n\\t\\t\\t\\t<div class=\"article-menu\">\\n\\t\\t\\t\\t\\t\\n\\t\\t\\t\\t\\t<div class=\"trigger\">&#x22ef;</div>\\n\\t\\t\\t\\t\\t<div class=\"dropdown\">\\n\\t\\t\\t\\t\\t\\t<div class=\"item\"><a href=\"/bbs/movie/search?q=thread%3A%5B%E8%A8%8E%E8%AB%96%5D&#43;%E4%BD%A0%E6%9C%80%E5%96%9C%E6%AD%A1%E7%8E%8B%E5%AE%B6%E8%A1%9B%E6%9D%B1%E9%82%AA%E8%A5%BF%E6%AF%92%E7%9A%84%E5%93%AA%E5%80%8B%E8%A7%92%E8%89%B2%3F\">搜尋同標題文章</a></div>\\n\\t\\t\\t\\t\\t\\t\\n\\t\\t\\t\\t\\t\\t<div class=\"item\"><a href=\"/bbs/movie/search?q=author%3Adro001\">搜尋看板內 dro001 的文章</a></div>\\n\\t\\t\\t\\t\\t\\t\\n\\t\\t\\t\\t\\t</div>\\n\\t\\t\\t\\t\\t\\n\\t\\t\\t\\t</div>\\n\\t\\t\\t\\t<div class=\"date\"> 3/25</div>\\n\\t\\t\\t\\t<div class=\"mark\"></div>\\n\\t\\t\\t</div>\\n\\t\\t</div>\\n\\n\\t\\t\\n            \\n        \\n        \\n\\t\\t<div class=\"r-ent\">\\n\\t\\t\\t<div class=\"nrec\"></div>\\n\\t\\t\\t<div class=\"title\">\\n\\t\\t\\t\\n\\t\\t\\t\\t<a href=\"/bbs/movie/M.1742887173.A.C86.html\">[情報] 《迷宮裡的魔術師》9月日本上映</a>\\n\\t\\t\\t\\n\\t\\t\\t</div>\\n\\t\\t\\t<div class=\"meta\">\\n\\t\\t\\t\\t<div class=\"author\">YoshiTilde</div>\\n\\t\\t\\t\\t<div class=\"article-menu\">\\n\\t\\t\\t\\t\\t\\n\\t\\t\\t\\t\\t<div class=\"trigger\">&#x22ef;</div>\\n\\t\\t\\t\\t\\t<div class=\"dropdown\">\\n\\t\\t\\t\\t\\t\\t<div class=\"item\"><a href=\"/bbs/movie/search?q=thread%3A%5B%E6%83%85%E5%A0%B1%5D&#43;%E3%80%8A%E8%BF%B7%E5%AE%AE%E8%A3%A1%E7%9A%84%E9%AD%94%E8%A1%93%E5%B8%AB%E3%80%8B9%E6%9C%88%E6%97%A5%E6%9C%AC%E4%B8%8A%E6%98%A0\">搜尋同標題文章</a></div>\\n\\t\\t\\t\\t\\t\\t\\n\\t\\t\\t\\t\\t\\t<div class=\"item\"><a href=\"/bbs/movie/search?q=author%3AYoshiTilde\">搜尋看板內 YoshiTilde 的文章</a></div>\\n\\t\\t\\t\\t\\t\\t\\n\\t\\t\\t\\t\\t</div>\\n\\t\\t\\t\\t\\t\\n\\t\\t\\t\\t</div>\\n\\t\\t\\t\\t<div class=\"date\"> 3/25</div>\\n\\t\\t\\t\\t<div class=\"mark\"></div>\\n\\t\\t\\t</div>\\n\\t\\t</div>\\n\\n\\t\\t\\n        \\n        <div class=\"r-list-sep\"></div>\\n            \\n                \\n        \\n        \\n\\t\\t<div class=\"r-ent\">\\n\\t\\t\\t<div class=\"nrec\"></div>\\n\\t\\t\\t<div class=\"title\">\\n\\t\\t\\t\\n\\t\\t\\t\\t<a href=\"/bbs/movie/M.1630756788.A.1FE.html\">[公告] 電影板板規 2022/12/5</a>\\n\\t\\t\\t\\n\\t\\t\\t</div>\\n\\t\\t\\t<div class=\"meta\">\\n\\t\\t\\t\\t<div class=\"author\">ckshchen</div>\\n\\t\\t\\t\\t<div class=\"article-menu\">\\n\\t\\t\\t\\t\\t\\n\\t\\t\\t\\t\\t<div class=\"trigger\">&#x22ef;</div>\\n\\t\\t\\t\\t\\t<div class=\"dropdown\">\\n\\t\\t\\t\\t\\t\\t<div class=\"item\"><a href=\"/bbs/movie/search?q=thread%3A%5B%E5%85%AC%E5%91%8A%5D&#43;%E9%9B%BB%E5%BD%B1%E6%9D%BF%E6%9D%BF%E8%A6%8F&#43;2022%2F12%2F5\">搜尋同標題文章</a></div>\\n\\t\\t\\t\\t\\t\\t\\n\\t\\t\\t\\t\\t\\t<div class=\"item\"><a href=\"/bbs/movie/search?q=author%3Ackshchen\">搜尋看板內 ckshchen 的文章</a></div>\\n\\t\\t\\t\\t\\t\\t\\n\\t\\t\\t\\t\\t</div>\\n\\t\\t\\t\\t\\t\\n\\t\\t\\t\\t</div>\\n\\t\\t\\t\\t<div class=\"date\"> 9/04</div>\\n\\t\\t\\t\\t<div class=\"mark\">!</div>\\n\\t\\t\\t</div>\\n\\t\\t</div>\\n\\n            \\n                \\n        \\n        \\n\\t\\t<div class=\"r-ent\">\\n\\t\\t\\t<div class=\"nrec\"><span class=\"hl f3\">11</span></div>\\n\\t\\t\\t<div class=\"title\">\\n\\t\\t\\t\\n\\t\\t\\t\\t<a href=\"/bbs/movie/M.1694784041.A.89F.html\">[公告] 禁政治版規 及 投票結果</a>\\n\\t\\t\\t\\n\\t\\t\\t</div>\\n\\t\\t\\t<div class=\"meta\">\\n\\t\\t\\t\\t<div class=\"author\">ckshchen</div>\\n\\t\\t\\t\\t<div class=\"article-menu\">\\n\\t\\t\\t\\t\\t\\n\\t\\t\\t\\t\\t<div class=\"trigger\">&#x22ef;</div>\\n\\t\\t\\t\\t\\t<div class=\"dropdown\">\\n\\t\\t\\t\\t\\t\\t<div class=\"item\"><a href=\"/bbs/movie/search?q=thread%3A%5B%E5%85%AC%E5%91%8A%5D&#43;%E7%A6%81%E6%94%BF%E6%B2%BB%E7%89%88%E8%A6%8F&#43;%E5%8F%8A&#43;%E6%8A%95%E7%A5%A8%E7%B5%90%E6%9E%9C\">搜尋同標題文章</a></div>\\n\\t\\t\\t\\t\\t\\t\\n\\t\\t\\t\\t\\t\\t<div class=\"item\"><a href=\"/bbs/movie/search?q=author%3Ackshchen\">搜尋看板內 ckshchen 的文章</a></div>\\n\\t\\t\\t\\t\\t\\t\\n\\t\\t\\t\\t\\t</div>\\n\\t\\t\\t\\t\\t\\n\\t\\t\\t\\t</div>\\n\\t\\t\\t\\t<div class=\"date\"> 9/15</div>\\n\\t\\t\\t\\t<div class=\"mark\"></div>\\n\\t\\t\\t</div>\\n\\t\\t</div>\\n\\n            \\n        \\n\\t</div>\\n\\n    \\n</div>\\n\\n\\t\\t\\n\\n\\n\\n<script async src=\"https://www.googletagmanager.com/gtag/js?id=G-DZ6Y3BY9GW\"></script>\\n<script>\\n      window.dataLayer = window.dataLayer || [];\\n      function gtag(){dataLayer.push(arguments);}\\n      gtag(\\'js\\', new Date());\\n\\n      gtag(\\'config\\', \\'G-DZ6Y3BY9GW\\');\\n</script>\\n<script>\\n  (function(i,s,o,g,r,a,m){i[\\'GoogleAnalyticsObject\\']=r;i[r]=i[r]||function(){\\n  (i[r].q=i[r].q||[]).push(arguments)},i[r].l=1*new Date();a=s.createElement(o),\\n  m=s.getElementsByTagName(o)[0];a.async=1;a.src=g;m.parentNode.insertBefore(a,m)\\n  })(window,document,\\'script\\',\\'https://www.google-analytics.com/analytics.js\\',\\'ga\\');\\n\\n  ga(\\'create\\', \\'UA-32365737-1\\', {\\n    cookieDomain: \\'ptt.cc\\',\\n    legacyCookieDomain: \\'ptt.cc\\'\\n  });\\n  ga(\\'send\\', \\'pageview\\');\\n</script>\\n\\n\\n\\t\\t\\n<script src=\"//ajax.googleapis.com/ajax/libs/jquery/2.1.1/jquery.min.js\"></script>\\n<script src=\"//images.ptt.cc/bbs/v2.27/bbs.js\"></script>\\n\\n    <script>(function(){function c(){var b=a.contentDocument||a.contentWindow.document;if(b){var d=b.createElement(\\'script\\');d.innerHTML=\"window.__CF$cv$params={r:\\'925ca845bf3a2ec3\\',t:\\'MTc0Mjg4NzM0OC4wMDAwMDA=\\'};var a=document.createElement(\\'script\\');a.nonce=\\'\\';a.src=\\'/cdn-cgi/challenge-platform/scripts/jsd/main.js\\';document.getElementsByTagName(\\'head\\')[0].appendChild(a);\";b.getElementsByTagName(\\'head\\')[0].appendChild(d)}}if(document.body){var a=document.createElement(\\'iframe\\');a.height=1;a.width=1;a.style.position=\\'absolute\\';a.style.top=0;a.style.left=0;a.style.border=\\'none\\';a.style.visibility=\\'hidden\\';document.body.appendChild(a);if(\\'loading\\'!==document.readyState)c();else if(window.addEventListener)document.addEventListener(\\'DOMContentLoaded\\',c);else{var e=document.onreadystatechange||function(){};document.onreadystatechange=function(b){e(b);\\'loading\\'!==document.readyState&&(document.onreadystatechange=e,c())}}}})();</script></body>\\n</html>\\n'"
            ]
          },
          "execution_count": 46,
          "metadata": {},
          "output_type": "execute_result"
        }
      ],
      "source": [
        "response.text"
      ]
    },
    {
      "cell_type": "code",
      "execution_count": null,
      "metadata": {
        "colab": {
          "base_uri": "https://localhost:8080/"
        },
        "id": "2VLBtpb2_ZsB",
        "outputId": "bd97df50-4e90-43f7-9291-6f88f687f39f"
      },
      "outputs": [
        {
          "data": {
            "text/plain": [
              "<title>看板 movie 文章列表 - 批踢踢實業坊</title>"
            ]
          },
          "execution_count": 48,
          "metadata": {},
          "output_type": "execute_result"
        }
      ],
      "source": [
        "soup = BeautifulSoup(response.text, 'lxml')\n",
        "soup.title"
      ]
    },
    {
      "cell_type": "code",
      "execution_count": null,
      "metadata": {
        "colab": {
          "base_uri": "https://localhost:8080/"
        },
        "id": "h_-MaSqj_iyh",
        "outputId": "23797f29-537a-466b-c07f-284aecf17c12"
      },
      "outputs": [
        {
          "name": "stdout",
          "output_type": "stream",
          "text": [
            " 3/25 https://www.ptt.cc/bbs/movie/M.1742882992.A.C16.html [請益] 月老 原著比電影好看很多嗎?\n",
            " 3/25 https://www.ptt.cc/bbs/movie/M.1742883654.A.D09.html [新聞] 星際寶貝選角太白爭議\n",
            " 3/25 https://www.ptt.cc/bbs/movie/M.1742885304.A.3BD.html [討論] 你最喜歡王家衛東邪西毒的哪個角色?\n",
            " 3/25 https://www.ptt.cc/bbs/movie/M.1742887173.A.C86.html [情報] 《迷宮裡的魔術師》9月日本上映\n",
            " 9/04 https://www.ptt.cc/bbs/movie/M.1630756788.A.1FE.html [公告] 電影板板規 2022/12/5\n",
            " 9/15 https://www.ptt.cc/bbs/movie/M.1694784041.A.89F.html [公告] 禁政治版規 及 投票結果\n"
          ]
        }
      ],
      "source": [
        "for atcl in soup.find_all('div', class_='r-ent'):\n",
        "    ttle = atcl.find('div', class_='title').a.text\n",
        "    urll = \"https://www.ptt.cc\" + atcl.find('div', class_='title').a.get('href')\n",
        "    date = atcl.find('div', class_='date').text\n",
        "    print(date,urll,ttle,)"
      ]
    },
    {
      "cell_type": "code",
      "execution_count": null,
      "metadata": {
        "colab": {
          "base_uri": "https://localhost:8080/"
        },
        "id": "aAbWab-KChTt",
        "outputId": "1f492ee4-e014-413a-bb1c-178fc8802ee4"
      },
      "outputs": [
        {
          "name": "stdout",
          "output_type": "stream",
          "text": [
            "https://www.ptt.cc/bbs/movie/index10542.html\n"
          ]
        }
      ],
      "source": [
        "nuu = \"https://www.ptt.cc\" +soup.find_all('a',class_='btn wide')[1].get('href')\n",
        "print(nuu)"
      ]
    },
    {
      "cell_type": "code",
      "execution_count": null,
      "metadata": {
        "colab": {
          "base_uri": "https://localhost:8080/"
        },
        "id": "kxZ7qAReDR3I",
        "outputId": "b86a90d4-2ba5-4a1b-b5c1-fc05a1c6ae80"
      },
      "outputs": [
        {
          "name": "stdout",
          "output_type": "stream",
          "text": [
            " 3/25 https://www.ptt.cc/bbs/movie/M.1742882992.A.C16.html [請益] 月老 原著比電影好看很多嗎?\n",
            " 3/25 https://www.ptt.cc/bbs/movie/M.1742883654.A.D09.html [新聞] 星際寶貝選角太白爭議\n",
            " 3/25 https://www.ptt.cc/bbs/movie/M.1742885304.A.3BD.html [討論] 你最喜歡王家衛東邪西毒的哪個角色?\n",
            " 3/25 https://www.ptt.cc/bbs/movie/M.1742887173.A.C86.html [情報] 《迷宮裡的魔術師》9月日本上映\n",
            " 9/04 https://www.ptt.cc/bbs/movie/M.1630756788.A.1FE.html [公告] 電影板板規 2022/12/5\n",
            " 9/15 https://www.ptt.cc/bbs/movie/M.1694784041.A.89F.html [公告] 禁政治版規 及 投票結果\n",
            " 3/24 https://www.ptt.cc/bbs/movie/M.1742826405.A.F9F.html [好慢雷]  Mikey 17\n",
            " 3/24 https://www.ptt.cc/bbs/movie/M.1742826519.A.D95.html [新聞] 大阪亞洲影展 「我家的事」4台灣演員同獲藥師真珠獎\n",
            " 3/24 https://www.ptt.cc/bbs/movie/M.1742828958.A.3FB.html Re: [討論] 白雪公主該給誰演\n",
            " 3/25  (本文已被刪除) [XDGEE]\n",
            " 3/25 https://www.ptt.cc/bbs/movie/M.1742833366.A.CD3.html [新聞] 新版《惡靈古堡》真人電影劇情曝光！主角\n",
            " 3/25 https://www.ptt.cc/bbs/movie/M.1742833522.A.5C4.html [新聞] 伊莉莎白歐森想扮「老年版」緋紅女巫！喊\n",
            " 3/25 https://www.ptt.cc/bbs/movie/M.1742836118.A.D8B.html [討論] 強納森梅傑斯「雜誌夢」爛番茄81%\n",
            " 3/25 https://www.ptt.cc/bbs/movie/M.1742838281.A.3D3.html [討論] 變形金剛 萬獸崛起 \n",
            " 3/25 https://www.ptt.cc/bbs/movie/M.1742848612.A.7D0.html [超好雷] 特洛伊：木馬屠城\n",
            " 3/25 https://www.ptt.cc/bbs/movie/M.1742861864.A.E08.html [討論] 伊麗莎白歐森說她不會演復5復6\n",
            " 3/25 https://www.ptt.cc/bbs/movie/M.1742868018.A.5A0.html [討論] 關於進電影院這回事\n",
            " 3/25 https://www.ptt.cc/bbs/movie/M.1742868930.A.2AC.html Re: [討論] 白雪公主該給誰演\n",
            " 3/25 https://www.ptt.cc/bbs/movie/M.1742869316.A.EC6.html [新聞] 全新重啟版《神鬼傳奇》正式開拍 \n",
            " 3/25 https://www.ptt.cc/bbs/movie/M.1742869431.A.FB6.html [新聞] 漫威MCU宇宙第七階段預計推出的四部電影\n",
            " 3/25 https://www.ptt.cc/bbs/movie/M.1742869791.A.110.html [請益] 給我一首琴的時間 預告裡的英文歌是?\n",
            " 3/25 https://www.ptt.cc/bbs/movie/M.1742869993.A.4A0.html Re: [討論] 變形金剛 萬獸崛起 \n",
            " 3/25 https://www.ptt.cc/bbs/movie/M.1742876834.A.2EF.html [討論] 迪士尼公主哪個算是成功真人化？\n",
            " 3/25 https://www.ptt.cc/bbs/movie/M.1742879077.A.5FA.html [新聞] 無懼膚色爭議 《白雪公主》穩坐台美票房\n",
            " 3/25 https://www.ptt.cc/bbs/movie/M.1742880200.A.5C0.html [片單] 賺災難財的電影\n",
            " 3/25 https://www.ptt.cc/bbs/movie/M.1742881665.A.04A.html [新聞] 剛獲奧斯卡最佳紀錄片獎 巴勒斯坦導演遇襲後遭以軍逮捕\n",
            " 3/24 https://www.ptt.cc/bbs/movie/M.1742790359.A.D09.html [普雷] 妳是我眼中的蘋果-偶像劇框架的四不像\n",
            " 3/24 https://www.ptt.cc/bbs/movie/M.1742794880.A.0F3.html [新聞] 《白雪公主》真人電影上映！ 爭議一籮筐\n",
            " 3/24 https://www.ptt.cc/bbs/movie/M.1742796445.A.7C9.html [好雷] 《封神第二部：戰火西岐》比想像中有料\n",
            " 3/24 https://www.ptt.cc/bbs/movie/M.1742796508.A.6CA.html [新聞] 約翰卡本特為奉俊昊下部電影配樂\n",
            " 3/24 https://www.ptt.cc/bbs/movie/M.1742801877.A.064.html Re: [贈票] 究竟誰是兇手【無線殺機】北中南搶先看\n",
            " 3/24 https://www.ptt.cc/bbs/movie/M.1742802552.A.693.html [新聞] 觀眾不買單！《白雪公主》首週北美票房\n",
            " 3/24 https://www.ptt.cc/bbs/movie/M.1742804191.A.0CC.html [情報] 天作之合首支中文預告 \n",
            " 3/24 https://www.ptt.cc/bbs/movie/M.1742804334.A.7D0.html [好雷] 【Queer】這種美，是醍醐灌頂的享受\n",
            " 3/24 https://www.ptt.cc/bbs/movie/M.1742804690.A.FBF.html [討論] 真人化電影IMDB分數最後一名\n",
            " 3/24 https://www.ptt.cc/bbs/movie/M.1742805883.A.149.html [普雷]《青春末世物語》體制、地震、成長痛\n",
            " 3/24 https://www.ptt.cc/bbs/movie/M.1742808757.A.BB8.html [討論] 看過最爽的4DX電影\n",
            " 3/24  (本文已被刪除) [XDGEE]\n",
            " 3/24 https://www.ptt.cc/bbs/movie/M.1742818135.A.327.html [新聞] 馬修麥康納支持「征服者康」繼續拍戲！超\n",
            " 3/24 https://www.ptt.cc/bbs/movie/M.1742818206.A.3B8.html [新聞] 《白雪公主》票房創迪士尼新低！勞勃許奈\n",
            " 3/24 https://www.ptt.cc/bbs/movie/M.1742818647.A.9E4.html [新聞] 迪士尼《白雪公主》爆好評！電影上映穩\n",
            " 3/24 https://www.ptt.cc/bbs/movie/M.1742820071.A.B49.html [普雷]《Queer》：老少男同志的中門對狙\n",
            " 3/24 https://www.ptt.cc/bbs/movie/M.1742821966.A.FF2.html [新聞] IMDB評2.2分真人版「白雪公主」\n",
            " 3/24 https://www.ptt.cc/bbs/movie/M.1742822298.A.8F2.html [問片] 想找一種類型的電影\n",
            " 3/24 https://www.ptt.cc/bbs/movie/M.1742824490.A.E4E.html Re: [討論] 看過最爽的4DX電影\n",
            " 3/24 https://www.ptt.cc/bbs/movie/M.1742825277.A.38C.html [討論] 白雪公主該給誰演\n",
            " 3/23 https://www.ptt.cc/bbs/movie/M.1742736798.A.FF8.html [普雷] 白雪公主\n",
            " 3/23 https://www.ptt.cc/bbs/movie/M.1742737781.A.608.html [微好雷] 我們的故事未來待續\n",
            " 3/23 https://www.ptt.cc/bbs/movie/M.1742738301.A.D16.html [好雷] 白雪公主 (1937年版)\n",
            " 3/23 https://www.ptt.cc/bbs/movie/M.1742738632.A.E99.html [大爆雷] 小小的我\n",
            " 3/23 https://www.ptt.cc/bbs/movie/M.1742740720.A.5FA.html [討論] 烏爾善的三部曲成本也太高了吧？\n",
            " 3/23 https://www.ptt.cc/bbs/movie/M.1742741955.A.B1F.html [討論] Felicity Jones 有搞頭嗎\n",
            " 3/23 https://www.ptt.cc/bbs/movie/M.1742742110.A.525.html [普好雷] 給我一首琴的時間-時機的浪漫變奏\n",
            " 3/23 https://www.ptt.cc/bbs/movie/M.1742743911.A.933.html [情報] 3/23 當週12部新片預告+Youtube觀看排行\n",
            " 3/23 https://www.ptt.cc/bbs/movie/M.1742744549.A.D6D.html [好無雷] 【不丹是幸福】沒有比較沒有傷害\n",
            " 3/24 https://www.ptt.cc/bbs/movie/M.1742746631.A.12C.html [好雷] 封神第二部：戰火西岐\n",
            " 3/24 https://www.ptt.cc/bbs/movie/M.1742746938.A.446.html [新聞] 白雪公主首周4300萬美金\n",
            " 3/24 https://www.ptt.cc/bbs/movie/M.1742747464.A.785.html [片單] 請問韓國搞笑片\n",
            " 3/24 https://www.ptt.cc/bbs/movie/M.1742751374.A.FA1.html Re: [討論] 電影院是不是沒落了？\n",
            " 3/24 https://www.ptt.cc/bbs/movie/M.1742753293.A.E60.html [負雷]白雪公主2025電影版觀後感 \n",
            " 3/24 https://www.ptt.cc/bbs/movie/M.1742754841.A.581.html Re: [討論] 電影院是不是沒落了？\n",
            " 3/24 https://www.ptt.cc/bbs/movie/M.1742771690.A.B9E.html [新聞] 1937動畫《白雪公主》、2025電影真人版 \n",
            " 3/24 https://www.ptt.cc/bbs/movie/M.1742778081.A.F5F.html [討論] 演員的肢體語言影響觀影感受\n",
            " 3/24 https://www.ptt.cc/bbs/movie/M.1742785444.A.84E.html [微好雷] 《吸血鬼：諾斯費拉圖》 \n",
            " 3/24 https://www.ptt.cc/bbs/movie/M.1742788129.A.06B.html Re: [討論] 電影院是不是沒落了？\n",
            " 3/24 https://www.ptt.cc/bbs/movie/M.1742790075.A.B25.html [請益] 老片重映的播放格式\n",
            " 3/23 https://www.ptt.cc/bbs/movie/M.1742704684.A.934.html Re: [討論] 電影院是不是沒落了？\n",
            " 3/23 https://www.ptt.cc/bbs/movie/M.1742704843.A.DD1.html [微好雷] 奧黛莎\n",
            " 3/23 https://www.ptt.cc/bbs/movie/M.1742707261.A.2E8.html Re: [討論] 電影院是不是沒落了？\n",
            " 3/23 https://www.ptt.cc/bbs/movie/M.1742711306.A.963.html Re: [討論] 國外白雪公主首映包場\n",
            " 3/23 https://www.ptt.cc/bbs/movie/M.1742711361.A.2BE.html [好雷]封神二:戰火西岐 \n",
            " 3/23 https://www.ptt.cc/bbs/movie/M.1742712745.A.6FF.html [新聞] 2025《白雪公主》靠5大超能力「逆轉勝」\n",
            " 3/23  (本文已被刪除) [dodoro1]\n",
            " 3/23  (本文已被刪除) [dodoro1]\n",
            " 3/23 https://www.ptt.cc/bbs/movie/M.1742714173.A.7DB.html [新聞] 蘋果在串流媒體服務每年虧損超過10億美元\n",
            " 3/23  (本文已被刪除) [Angela]\n",
            " 3/23  (本文已被刪除) [Angela]\n",
            " 3/23 https://www.ptt.cc/bbs/movie/M.1742717107.A.915.html Re: [討論] 電影院是不是沒落了？\n",
            " 3/23 https://www.ptt.cc/bbs/movie/M.1742717149.A.ACF.html [討論] 大家一年看幾部電影？\n",
            " 3/23 https://www.ptt.cc/bbs/movie/M.1742719686.A.C1D.html [片單] 韓國2024推薦\n",
            " 3/23 https://www.ptt.cc/bbs/movie/M.1742722596.A.2BD.html [負雷] 六弄咖啡館什麼大爛片…\n",
            " 3/23 https://www.ptt.cc/bbs/movie/M.1742726638.A.E45.html [請益] YouTube都在黑白雪公主是怎樣\n",
            " 3/23 https://www.ptt.cc/bbs/movie/M.1742727997.A.8D4.html [超好雷] 《青春末世物語》(HAPPYEND)\n",
            " 3/23 https://www.ptt.cc/bbs/movie/M.1742729886.A.24A.html [負雷] 《白雪公主》  毀滅童年的真人災難秀\n",
            " 3/23 https://www.ptt.cc/bbs/movie/M.1742731026.A.DE4.html [好雷] 封神第二部：戰火西岐\n",
            " 3/23 https://www.ptt.cc/bbs/movie/M.1742731732.A.26F.html [負無雷] 大力水手：血腥菠菜\n"
          ]
        }
      ],
      "source": [
        "#電影版\n",
        "def get_articles(url):\n",
        "    response = requests.get(url)\n",
        "    soup = BeautifulSoup(response.text, 'lxml')\n",
        "    for atcl in soup.find_all('div', class_='r-ent'):\n",
        "      if atcl.find('div', class_='title').a  :\n",
        "        ttle = atcl.find('div', class_='title').a.text\n",
        "        href = \"https://www.ptt.cc\" + atcl.find('div', class_='title').a.get('href')\n",
        "      else:\n",
        "        ttle = atcl.find('div', class_='title').text.strip()\n",
        "        href = \"\"\n",
        "      date = atcl.find('div', class_='date').text\n",
        "      print(date,href,ttle,)\n",
        "    url = \"https://www.ptt.cc\" +soup.find_all('a',class_='btn wide')[1].get('href')\n",
        "    return url\n",
        "\n",
        "url = 'https://www.ptt.cc/bbs/movie/index.html'\n",
        "\n",
        "for i in range(5):\n",
        "  url = get_articles(url)"
      ]
    },
    {
      "cell_type": "code",
      "execution_count": null,
      "metadata": {
        "colab": {
          "background_save": true,
          "base_uri": "https://localhost:8080/"
        },
        "id": "r2JbjHReKmQE",
        "outputId": "2492b353-4863-423c-9b3c-a2bb5a69f412"
      },
      "outputs": [
        {
          "name": "stdout",
          "output_type": "stream",
          "text": [
            " 3/25 https://www.ptt.cc/bbs/Gossiping/M.1742887615.A.9D3.html [問卦] 言論自由最輝煌的年代是2008~2016年\n",
            " 3/25 https://www.ptt.cc/bbs/Gossiping/M.1742887674.A.4E5.html [問卦] 明英宗，算是昏庸的很剛好嗎？\n",
            " 3/25 https://www.ptt.cc/bbs/Gossiping/M.1742887688.A.917.html Re: [新聞] 離台倒數！亞亞拒絕出境　移民署將強制\n",
            " 3/25 https://www.ptt.cc/bbs/Gossiping/M.1742887694.A.3A5.html Re: [問卦]  我不認同你的觀點 但是我誓死捍衛你說\n",
            " 3/25 https://www.ptt.cc/bbs/Gossiping/M.1742887707.A.EB3.html [問卦] 大家好奇的台灣小薇現況~~~\n",
            " 3/25 https://www.ptt.cc/bbs/Gossiping/M.1742887715.A.400.html Re: [問卦] 劍湖山484快不行了？\n",
            " 3/25 https://www.ptt.cc/bbs/Gossiping/M.1742887718.A.638.html [問卦] 沒中發票選一個怪要怪誰？\n",
            " 3/25 https://www.ptt.cc/bbs/Gossiping/M.1742887724.A.F77.html Re: [問卦] 台灣看獸醫很貴的八卦??\n",
            " 3/25 https://www.ptt.cc/bbs/Gossiping/M.1742887729.A.2FD.html [問卦] 肥肥的韓妞你真的可以嗎？\n",
            " 3/25 https://www.ptt.cc/bbs/Gossiping/M.1742887825.A.6B4.html Re: [問卦] 華爾街日報：中國準備封鎖台灣？\n",
            " 3/25 https://www.ptt.cc/bbs/Gossiping/M.1742888076.A.E0D.html Re: [問卦]  我不認同你的觀點 但是我誓死捍衛你說\n",
            " 3/25 https://www.ptt.cc/bbs/Gossiping/M.1742888164.A.0DE.html Re: [問卦] 言論自由最輝煌的年代是2008~2016年\n",
            " 3/25 https://www.ptt.cc/bbs/Gossiping/M.1742888168.A.C7A.html [問卦] 什麼叫做鼓吹戰爭啊?\n",
            " 3/25 https://www.ptt.cc/bbs/Gossiping/M.1742888184.A.3A6.html Re: [問卦]  我不認同你的觀點 但是我誓死捍衛你說\n",
            " 3/25 https://www.ptt.cc/bbs/Gossiping/M.1742888266.A.0CE.html [問卦] 每期都超過100張發票都沒中，你真的OK？\n",
            " 3/25 https://www.ptt.cc/bbs/Gossiping/M.1742888349.A.C5A.html [問卦] 所以亞亞是來自深淵嗎？\n",
            " 3/25 https://www.ptt.cc/bbs/Gossiping/M.1742888408.A.397.html [問卦] 今天高溫31度\n",
            " 3/25 https://www.ptt.cc/bbs/Gossiping/M.1742888437.A.E1A.html [問卦] 美國人：派軍機轟炸台積電算言論自由嗎\n",
            " 3/25 https://www.ptt.cc/bbs/Gossiping/M.1742888477.A.E23.html Re: [問卦]  我不認同你的觀點 但是我誓死捍衛你說\n",
            " 3/25 https://www.ptt.cc/bbs/Gossiping/M.1742888485.A.656.html [新聞] 護理師怨薪水比「鼎泰豐洗碗工」還低！\n",
            "11/02 https://www.ptt.cc/bbs/Gossiping/M.1730554547.A.41C.html Fw: [公告] 請留意新註冊帳號使用信件詐騙\n",
            " 1/21 https://www.ptt.cc/bbs/Gossiping/M.1737398137.A.644.html [公告] 八卦板板規(2025.01.21)\n",
            " 2/20 https://www.ptt.cc/bbs/Gossiping/M.1740024219.A.1EB.html [公告]  春季大反攻！！八卦板主徵選報名開始捏\n",
            " 3/12 https://www.ptt.cc/bbs/Gossiping/M.1741791500.A.EB6.html Fw: [公告] 請避免與登入1次之帳號進行交易 發錢\n",
            " 3/25 https://www.ptt.cc/bbs/Gossiping/M.1742886853.A.F1F.html Re: [問卦] 在中國宣揚台獨會怎麼樣\n",
            " 3/25 https://www.ptt.cc/bbs/Gossiping/M.1742886948.A.5E6.html [問卦] 開獎看到這個如何調適\n",
            " 3/25 https://www.ptt.cc/bbs/Gossiping/M.1742887010.A.89A.html Re: [問卦]  我不認同你的觀點 但是我誓死捍衛你說\n",
            " 3/25 https://www.ptt.cc/bbs/Gossiping/M.1742887012.A.67D.html Re: [問卦]  我不認同你的觀點 但是我誓死捍衛你說\n",
            " 3/25 https://www.ptt.cc/bbs/Gossiping/M.1742887027.A.5F3.html [問卦] 亞亞真的太蠢了\n",
            " 3/25 https://www.ptt.cc/bbs/Gossiping/M.1742887100.A.5F1.html [問卦] 記者快來！中國網友一千留言要台灣放人\n",
            " 3/25 https://www.ptt.cc/bbs/Gossiping/M.1742887102.A.21F.html [問卦] 一輩子只能吃速食店怎麼選\n",
            " 3/25 https://www.ptt.cc/bbs/Gossiping/M.1742887137.A.FF6.html [問卦] 小微跟恩綺現在在幹嘛？\n",
            " 3/25 https://www.ptt.cc/bbs/Gossiping/M.1742887144.A.119.html [問卦] 金價會無止盡上漲嗎？\n",
            " 3/25 https://www.ptt.cc/bbs/Gossiping/M.1742887156.A.6CE.html [問卦]比特犬咬人很多人說是養的人問題 也不去領\n",
            " 3/25 https://www.ptt.cc/bbs/Gossiping/M.1742887224.A.B0A.html [新聞] 涮樂和牛羅東店食物中毒檢驗曝　疾管署：\n",
            " 3/25 https://www.ptt.cc/bbs/Gossiping/M.1742887252.A.1B7.html Re: [問卦] 今天共配亞亞沒被強制出境 我就終身...\n",
            " 3/25 https://www.ptt.cc/bbs/Gossiping/M.1742887283.A.F64.html [問卦] 中共是敵國戰機越線怎麼不打下來\n",
            " 3/25 https://www.ptt.cc/bbs/Gossiping/M.1742887369.A.A76.html Re: [問卦] 華爾街日報：中國準備封鎖台灣？\n",
            " 3/25 https://www.ptt.cc/bbs/Gossiping/M.1742887415.A.95A.html [問卦] threads閃退 腫模辦？\n",
            " 3/25 https://www.ptt.cc/bbs/Gossiping/M.1742887430.A.EBB.html Re: [問卦] 減肥怎麼樣都減不下來？\n",
            " 3/25 https://www.ptt.cc/bbs/Gossiping/M.1742887438.A.BA6.html Re: [問卦]  我不認同你的觀點 但是我誓死捍衛你說\n",
            " 3/25 https://www.ptt.cc/bbs/Gossiping/M.1742887459.A.DD0.html [問卦] 現在加入統一教還來的及嗎？\n",
            " 3/25 https://www.ptt.cc/bbs/Gossiping/M.1742887523.A.9D8.html [問卦] 為什麼中國北方空氣比南方差？\n",
            " 3/25 https://www.ptt.cc/bbs/Gossiping/M.1742887594.A.FFE.html Re: [新聞] 被批耍特權…彰縣議員賴清美派出所停車被\n",
            " 3/25 https://www.ptt.cc/bbs/Gossiping/M.1742886039.A.5D0.html [問卦] 中國官方怎麼看亞亞被送回國？\n",
            " 3/25 https://www.ptt.cc/bbs/Gossiping/M.1742886055.A.DBF.html [問卦]  我不認同你的觀點 但是我誓死捍衛你說\n",
            " 3/25 https://www.ptt.cc/bbs/Gossiping/M.1742886141.A.727.html Re: [問卦] 在中國宣揚台獨會怎麼樣\n",
            " 3/25 https://www.ptt.cc/bbs/Gossiping/M.1742886165.A.FAA.html [問卦] 子爵夫人比「2」是什麼意思？\n",
            " 3/25 https://www.ptt.cc/bbs/Gossiping/M.1742886190.A.643.html [問卦] 看不懂獵人是正常的嗎\n",
            " 3/25 https://www.ptt.cc/bbs/Gossiping/M.1742886289.A.7AD.html [新聞] 普發1萬領得到？謝龍介說賴清德可能還會\n",
            " 3/25 https://www.ptt.cc/bbs/Gossiping/M.1742886293.A.4BD.html [問卦] HPV 9價疫苗 打完第2劑後的防護力多少\n",
            " 3/25 https://www.ptt.cc/bbs/Gossiping/M.1742886304.A.876.html [問卦] 公司地址宅配週六無法收，是誰的錯\n",
            " 3/25  (本文已被刪除) [shangchiu]\n",
            " 3/25 https://www.ptt.cc/bbs/Gossiping/M.1742886358.A.63D.html Re: [問卦]  我不認同你的觀點 但是我誓死捍衛你說\n",
            " 3/25 https://www.ptt.cc/bbs/Gossiping/M.1742886375.A.59B.html [問卦] 為什麼台灣網紅這麼重要？\n",
            " 3/25 https://www.ptt.cc/bbs/Gossiping/M.1742886420.A.32D.html [問卦] 減肥怎麼樣都減不下來？\n",
            " 3/25 https://www.ptt.cc/bbs/Gossiping/M.1742886425.A.89A.html [新聞] 林志潔遭質疑「請咖啡甜點換連署」 辯這\n",
            " 3/25 https://www.ptt.cc/bbs/Gossiping/M.1742886520.A.894.html Re: [問卦] 亞亞的老公到底是誰？姓黃？姓余？\n",
            " 3/25 https://www.ptt.cc/bbs/Gossiping/M.1742886548.A.CB1.html Re: [問卦] 在中國宣揚台獨會怎麼樣\n",
            " 3/25 https://www.ptt.cc/bbs/Gossiping/M.1742886571.A.5B2.html [問卦] 亞亞今天23：59開始在廁所大便\n",
            " 3/25 https://www.ptt.cc/bbs/Gossiping/M.1742886574.A.7AE.html [問卦] 亞亞的先生可以申請國賠嗎\n",
            " 3/25 https://www.ptt.cc/bbs/Gossiping/M.1742886582.A.734.html [問卦] 我們與惡的距離II被目標觀眾群抵制了\n",
            " 3/25 https://www.ptt.cc/bbs/Gossiping/M.1742886780.A.D39.html Re: [問卦]  我不認同你的觀點 但是我誓死捍衛你說\n",
            " 3/25 https://www.ptt.cc/bbs/Gossiping/M.1742886787.A.671.html Re: [問卦]  我不認同你的觀點 但是我誓死捍衛你說\n",
            " 3/25 https://www.ptt.cc/bbs/Gossiping/M.1742885099.A.2F5.html Re: [問卦]亞亞最後絕招是不是只剩公開支持台獨\n",
            " 3/25 https://www.ptt.cc/bbs/Gossiping/M.1742885188.A.A08.html [問卦] 中國政府真的很有錢！！\n",
            " 3/25 https://www.ptt.cc/bbs/Gossiping/M.1742885222.A.0A1.html [問卦] 還有人記得假電子發票和假環保袋嗎？\n",
            " 3/25 https://www.ptt.cc/bbs/Gossiping/M.1742885280.A.129.html Re: [新聞] 「胖一點」能抗癌？醫證實：存活率比\n",
            " 3/25 https://www.ptt.cc/bbs/Gossiping/M.1742885375.A.F7E.html [新聞] 快訊／東京地方法院下令「統一教」解散！\n",
            " 3/25 https://www.ptt.cc/bbs/Gossiping/M.1742885408.A.CDC.html [問卦] 台灣9年來沒什麼變？\n",
            " 3/25 https://www.ptt.cc/bbs/Gossiping/M.1742885457.A.2BC.html [新聞] 近三年預售屋賣約5.4兆元 業者：未來房\n",
            " 3/25 https://www.ptt.cc/bbs/Gossiping/M.1742885463.A.29C.html Re: [問卦] 華爾街日報：中國準備封鎖台灣？\n",
            " 3/25 https://www.ptt.cc/bbs/Gossiping/M.1742885538.A.A9C.html [問卦] 吃到飽店員會不會很討厭只點同一樣東西的\n",
            " 3/25 https://www.ptt.cc/bbs/Gossiping/M.1742885551.A.EEE.html Re: [問卦] 在中國宣揚台獨會怎麼樣\n",
            " 3/25 https://www.ptt.cc/bbs/Gossiping/M.1742885572.A.490.html [問卦] 物價飆漲後，行情變得好亂\n",
            " 3/25 https://www.ptt.cc/bbs/Gossiping/M.1742885610.A.DF3.html [問卦] 要是亞亞自殺的話 你各位都是殺人兇手\n",
            " 3/25 https://www.ptt.cc/bbs/Gossiping/M.1742885643.A.D0D.html [新聞] 首購悲歌！千萬元內建案行政區剩9個 專家\n",
            " 3/25 https://www.ptt.cc/bbs/Gossiping/M.1742885648.A.49F.html [問卦] 亞亞是誰 很重要嗎？\n",
            " 3/25 https://www.ptt.cc/bbs/Gossiping/M.1742885764.A.432.html [問卦] 台灣水價是不是真的非常的便宜？？\n",
            " 3/25 https://www.ptt.cc/bbs/Gossiping/M.1742885770.A.7A3.html [問卦] 其實吃到飽吃太多真的會被黑名單嗎\n",
            " 3/25 https://www.ptt.cc/bbs/Gossiping/M.1742885792.A.14A.html [問卦] 有沒有換位置換腦袋怎麼調適的卦\n",
            " 3/25 https://www.ptt.cc/bbs/Gossiping/M.1742885895.A.7D9.html [問卦] 宣揚五筒跟包大陸二奶哪個嚴重\n",
            " 3/25 https://www.ptt.cc/bbs/Gossiping/M.1742885968.A.B6E.html Re: [問卦] 要是亞亞自殺的話 你各位都是殺人兇手\n",
            " 3/25 https://www.ptt.cc/bbs/Gossiping/M.1742886010.A.FC2.html [問卦] 亞亞跟八炯 有沒有同文同種的味道\n",
            " 3/25 https://www.ptt.cc/bbs/Gossiping/M.1742884284.A.D53.html Re: [新聞] 快訊／大逆轉！借派出所臨停挨轟耍特權\n",
            " 3/25 https://www.ptt.cc/bbs/Gossiping/M.1742884296.A.218.html [新聞] 很忙！出席藍罷團「地動刪瑤」總部　朱\n",
            " 3/25 https://www.ptt.cc/bbs/Gossiping/M.1742884313.A.69C.html [問卦] 哪時候才會重視工安？\n",
            " 3/25 https://www.ptt.cc/bbs/Gossiping/M.1742884342.A.EC0.html [問卦] 劍湖山484快不行了？\n",
            " 3/25 https://www.ptt.cc/bbs/Gossiping/M.1742884344.A.276.html [問卦] 喜歡泰國妹勝於日本妹正常嗎？\n",
            " 3/25 https://www.ptt.cc/bbs/Gossiping/M.1742884380.A.B52.html [問卦] 關稅戰開始了嗎\n",
            " 3/25 https://www.ptt.cc/bbs/Gossiping/M.1742884399.A.4EC.html [問卦] 常把財富自由掛在嘴邊的工作有哪些？\n",
            " 3/25 https://www.ptt.cc/bbs/Gossiping/M.1742884476.A.0C3.html [問卦] 謝祖武這輩子有沒有演過一個知名律師角色\n",
            " 3/25  (本文已被刪除) [toughlove]\n",
            " 3/25 https://www.ptt.cc/bbs/Gossiping/M.1742884576.A.FBB.html [問卦] 如果一陣子沒中國新聞會怎樣\n",
            " 3/25 https://www.ptt.cc/bbs/Gossiping/M.1742884684.A.C5E.html [新聞] 離台倒數！亞亞拒絕出境　移民署將強制\n",
            " 3/25 https://www.ptt.cc/bbs/Gossiping/M.1742884684.A.D91.html [問卦] 為什麼分享美食要放假臉\n",
            " 3/25 https://www.ptt.cc/bbs/Gossiping/M.1742884765.A.91D.html [問卦] 統整一下現在各地雞排都多少？\n",
            " 3/25 https://www.ptt.cc/bbs/Gossiping/M.1742884847.A.6AC.html [問卦] 現下要怎麼省錢又吃出健康？\n",
            " 3/25 https://www.ptt.cc/bbs/Gossiping/M.1742884919.A.4AB.html Re: [問卦] 兩岸戰爭 不靠美國台灣要如何才守得住？\n",
            " 3/25 https://www.ptt.cc/bbs/Gossiping/M.1742884935.A.6E3.html [問卦] 甲片影劇為何台灣拍不贏泰國\n",
            " 3/25 https://www.ptt.cc/bbs/Gossiping/M.1742884965.A.673.html [問卦] 金秀賢上台做什麼才能洗白？\n",
            " 3/25 https://www.ptt.cc/bbs/Gossiping/M.1742884967.A.2D9.html [問卦] 讀復興中學的都是非富即貴嗎？\n",
            " 3/25 https://www.ptt.cc/bbs/Gossiping/M.1742885022.A.0A7.html [問卦] 在中國宣揚台獨會怎麼樣\n",
            " 3/25 https://www.ptt.cc/bbs/Gossiping/M.1742885050.A.860.html [問卦] 女生要是太緊 叫你憋一下先別射該怎辦?\n"
          ]
        }
      ],
      "source": [
        "#八卦版\n",
        "def get_articles(url):\n",
        "    response = requests.get(url)\n",
        "    soup = BeautifulSoup(response.text, 'lxml')\n",
        "    for atcl in soup.find_all('div', class_='r-ent'):\n",
        "      if atcl.find('div', class_='title').a == True:\n",
        "        ttle = atcl.find('div', class_='title').a.text\n",
        "        urll = \"https://www.ptt.cc\" + atcl.find('div', class_='title').a.get('href')\n",
        "      else:\n",
        "        ttle = atcl.find('div', class_='title').text.strip()\n",
        "        urll = \"\"\n",
        "      date = atcl.find('div', class_='date').text\n",
        "      print(date,urll,ttle,)\n",
        "    url = \"https://www.ptt.cc\" +soup.find_all('a',class_='btn wide')[1].get('href')\n",
        "    return url\n",
        "\n",
        "url = 'https://www.ptt.cc/bbs/Gossiping/index.html'\n",
        "\n",
        "for i in range(5):\n",
        "  url = get_articles(url)"
      ]
    }
  ],
  "metadata": {
    "colab": {
      "provenance": [],
      "authorship_tag": "ABX9TyNpN37ohH/FB/kjjrBtQe3a",
      "include_colab_link": true
    },
    "kernelspec": {
      "display_name": "Python 3",
      "name": "python3"
    },
    "language_info": {
      "name": "python"
    }
  },
  "nbformat": 4,
  "nbformat_minor": 0
}