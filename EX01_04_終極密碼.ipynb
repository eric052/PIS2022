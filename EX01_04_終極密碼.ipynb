{
  "nbformat": 4,
  "nbformat_minor": 0,
  "metadata": {
    "colab": {
      "provenance": [],
      "authorship_tag": "ABX9TyPhan/TK0YnWBpO9Rm4G+66",
      "include_colab_link": true
    },
    "kernelspec": {
      "name": "python3",
      "display_name": "Python 3"
    },
    "language_info": {
      "name": "python"
    }
  },
  "cells": [
    {
      "cell_type": "markdown",
      "metadata": {
        "id": "view-in-github",
        "colab_type": "text"
      },
      "source": [
        "<a href=\"https://colab.research.google.com/github/eric052/PIS2022/blob/main/EX01_04_%E7%B5%82%E6%A5%B5%E5%AF%86%E7%A2%BC.ipynb\" target=\"_parent\"><img src=\"https://colab.research.google.com/assets/colab-badge.svg\" alt=\"Open In Colab\"/></a>"
      ]
    },
    {
      "cell_type": "code",
      "execution_count": null,
      "metadata": {
        "colab": {
          "base_uri": "https://localhost:8080/"
        },
        "id": "GLK4d25NvBgO",
        "outputId": "724a6f28-be04-46e9-beaa-0556a92adffb"
      },
      "outputs": [
        {
          "output_type": "stream",
          "name": "stdout",
          "text": [
            "請猜一個數字 1-99:1\n",
            "請猜一個數字  1 - 99 :\n",
            "2\n",
            "請猜一個數字  2 - 99 :\n",
            "5\n",
            "請猜一個數字  5 - 99 :\n",
            "44\n",
            "請猜一個數字  44 - 99 :\n",
            "3\n",
            "請猜一個數字  3 - 99 :\n",
            "88\n",
            "請猜一個數字  3 - 88 :\n",
            "55\n",
            "請猜一個數字  55 - 88 :\n",
            "66\n",
            "請猜一個數字  55 - 66 :\n",
            "54\n",
            "請猜一個數字  54 - 66 :\n",
            "60\n",
            "請猜一個數字  54 - 60 :\n",
            "62\n",
            "請猜一個數字  54 - 62 :\n",
            "64\n",
            "請猜一個數字  54 - 64 :\n",
            "65\n",
            "請猜一個數字  54 - 65 :\n",
            "60\n",
            "請猜一個數字  54 - 60 :\n"
          ]
        }
      ],
      "source": [
        "import random\n",
        "\n",
        "pas = random.randint(1,99)\n",
        "\n",
        "a = int(input(\"請猜一個數字 1-99:\"))\n",
        "lf=1\n",
        "rf=99\n",
        "query=True\n",
        "while a != pas:\n",
        "  if a>100:\n",
        "      print(\"超出範圍\")\n",
        "      # a = int(input(\"請猜一個數字 0-100: \\n\"))\n",
        "  elif a > pas:\n",
        "      rf = a\n",
        "      # a = int(input(\"請猜一個數字 0-\",a,\": \\n\"))\n",
        "  elif a < pas:\n",
        "      lf = a\n",
        "  print(\"請猜一個數字 \",lf,\"-\",rf,\":\")\n",
        "  a = int(input())\n",
        "\n",
        "else:\n",
        "  print(\"Bingo!\")"
      ]
    }
  ]
}