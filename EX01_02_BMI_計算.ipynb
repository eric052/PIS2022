{
  "nbformat": 4,
  "nbformat_minor": 0,
  "metadata": {
    "colab": {
      "provenance": [],
      "authorship_tag": "ABX9TyMB5U2DmIUjdCcQgywtWybR",
      "include_colab_link": true
    },
    "kernelspec": {
      "name": "python3",
      "display_name": "Python 3"
    },
    "language_info": {
      "name": "python"
    }
  },
  "cells": [
    {
      "cell_type": "markdown",
      "metadata": {
        "id": "view-in-github",
        "colab_type": "text"
      },
      "source": [
        "<a href=\"https://colab.research.google.com/github/eric052/PIS2022/blob/main/EX01_02_BMI_%E8%A8%88%E7%AE%97.ipynb\" target=\"_parent\"><img src=\"https://colab.research.google.com/assets/colab-badge.svg\" alt=\"Open In Colab\"/></a>"
      ]
    },
    {
      "cell_type": "code",
      "execution_count": 8,
      "metadata": {
        "colab": {
          "base_uri": "https://localhost:8080/"
        },
        "id": "FCWQIdToIAyR",
        "outputId": "bda45675-9273-41fb-ac19-92324daaff52"
      },
      "outputs": [
        {
          "output_type": "stream",
          "name": "stdout",
          "text": [
            "50\n",
            "180\n",
            "15.432098765432098\n",
            "15.4\n"
          ]
        }
      ],
      "source": [
        "weight = float(input(\"請輸入體重:\"))\n",
        "\n",
        "height = float(input(\"請輸入身高:\"))\n",
        "height = height/100\n",
        "\n",
        "temp = height*height\n",
        "bmi = weight/temp\n",
        "\n",
        "print(round(bmi,1))\n",
        "\n"
      ]
    }
  ]
}