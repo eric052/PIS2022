{
  "nbformat": 4,
  "nbformat_minor": 0,
  "metadata": {
    "colab": {
      "provenance": [],
      "authorship_tag": "ABX9TyPI/t7CNC2mVmZFMqCPwSkJ",
      "include_colab_link": true
    },
    "kernelspec": {
      "name": "python3",
      "display_name": "Python 3"
    },
    "language_info": {
      "name": "python"
    }
  },
  "cells": [
    {
      "cell_type": "markdown",
      "metadata": {
        "id": "view-in-github",
        "colab_type": "text"
      },
      "source": [
        "<a href=\"https://colab.research.google.com/github/eric052/PIS2022/blob/main/EX02_07_KKDay.ipynb\" target=\"_parent\"><img src=\"https://colab.research.google.com/assets/colab-badge.svg\" alt=\"Open In Colab\"/></a>"
      ]
    },
    {
      "cell_type": "code",
      "execution_count": null,
      "metadata": {
        "colab": {
          "base_uri": "https://localhost:8080/"
        },
        "id": "5EJWQoN285yU",
        "outputId": "2be990d6-97d3-496c-9534-34c191f3c611"
      },
      "outputs": [
        {
          "output_type": "execute_result",
          "data": {
            "text/plain": [
              "<title>全世界最熱門 住宿 - 2025 更新 - KKday</title>"
            ]
          },
          "metadata": {},
          "execution_count": 17
        }
      ],
      "source": [
        "import requests\n",
        "from bs4 import BeautifulSoup\n",
        "url = \"https://www.kkday.com/zh-tw/category/global/accommodation\"\n",
        "\n",
        "headers = {'user-agent':'Mozilla/5.0 (Linux; Android 6.0; Nexus 5 Build/MRA58N) AppleWebKit/537.36 (KHTML, like Gecko) Chrome/135.0.0.0 Mobile Safari/537.36'}\n",
        "\n",
        "response = requests.get(url,headers=headers)\n",
        "soup = BeautifulSoup(response.text, \"lxml\")\n",
        "soup.title"
      ]
    },
    {
      "cell_type": "code",
      "source": [
        "soup.find_all('h3',class_='product-card_title').text"
      ],
      "metadata": {
        "colab": {
          "base_uri": "https://localhost:8080/",
          "height": 274
        },
        "collapsed": true,
        "id": "gwsE6wmzAOHy",
        "outputId": "502c3dbc-37ed-4b2b-aab4-0b270ddfad93"
      },
      "execution_count": null,
      "outputs": [
        {
          "output_type": "error",
          "ename": "AttributeError",
          "evalue": "ResultSet object has no attribute \"text\". You're probably treating a list of elements like a single element. Did you call find_all() when you meant to call find()?",
          "traceback": [
            "\u001b[0;31m---------------------------------------------------------------------------\u001b[0m",
            "\u001b[0;31mAttributeError\u001b[0m                            Traceback (most recent call last)",
            "\u001b[0;32m<ipython-input-14-6b0b94f6a317>\u001b[0m in \u001b[0;36m<cell line: 0>\u001b[0;34m()\u001b[0m\n\u001b[0;32m----> 1\u001b[0;31m \u001b[0msoup\u001b[0m\u001b[0;34m.\u001b[0m\u001b[0mfind_all\u001b[0m\u001b[0;34m(\u001b[0m\u001b[0;34m'h3'\u001b[0m\u001b[0;34m,\u001b[0m\u001b[0mclass_\u001b[0m\u001b[0;34m=\u001b[0m\u001b[0;34m'product-card_title'\u001b[0m\u001b[0;34m)\u001b[0m\u001b[0;34m.\u001b[0m\u001b[0mtext\u001b[0m\u001b[0;34m\u001b[0m\u001b[0;34m\u001b[0m\u001b[0m\n\u001b[0m",
            "\u001b[0;32m/usr/local/lib/python3.11/dist-packages/bs4/element.py\u001b[0m in \u001b[0;36m__getattr__\u001b[0;34m(self, key)\u001b[0m\n\u001b[1;32m   2875\u001b[0m     \u001b[0;32mdef\u001b[0m \u001b[0m__getattr__\u001b[0m\u001b[0;34m(\u001b[0m\u001b[0mself\u001b[0m\u001b[0;34m,\u001b[0m \u001b[0mkey\u001b[0m\u001b[0;34m:\u001b[0m \u001b[0mstr\u001b[0m\u001b[0;34m)\u001b[0m \u001b[0;34m->\u001b[0m \u001b[0;32mNone\u001b[0m\u001b[0;34m:\u001b[0m\u001b[0;34m\u001b[0m\u001b[0;34m\u001b[0m\u001b[0m\n\u001b[1;32m   2876\u001b[0m         \u001b[0;34m\"\"\"Raise a helpful exception to explain a common code fix.\"\"\"\u001b[0m\u001b[0;34m\u001b[0m\u001b[0;34m\u001b[0m\u001b[0m\n\u001b[0;32m-> 2877\u001b[0;31m         raise AttributeError(\n\u001b[0m\u001b[1;32m   2878\u001b[0m             \u001b[0;34mf\"\"\"ResultSet object has no attribute \"{key}\". You're probably treating a list of elements like a single element. Did you call find_all() when you meant to call find()?\"\"\"\u001b[0m\u001b[0;34m\u001b[0m\u001b[0;34m\u001b[0m\u001b[0m\n\u001b[1;32m   2879\u001b[0m         )\n",
            "\u001b[0;31mAttributeError\u001b[0m: ResultSet object has no attribute \"text\". You're probably treating a list of elements like a single element. Did you call find_all() when you meant to call find()?"
          ]
        }
      ]
    },
    {
      "cell_type": "code",
      "source": [
        "import requests\n",
        "url = \"https://www.kkday.com/zh-tw/category/ajax_get_top_products?productCategory=CATEGORY_078&destination=\"\n",
        "\n",
        "headers = {'user-agent':'Mozilla/5.0 (Linux; Android 6.0; Nexus 5 Build/MRA58N) AppleWebKit/537.36 (KHTML, like Gecko) Chrome/135.0.0.0 Mobile Safari/537.36'}\n",
        "response = requests.get(url,headers=headers)\n",
        "\n",
        "hotels = response.json()\n"
      ],
      "metadata": {
        "id": "ACQ3uvXEAgtt"
      },
      "execution_count": null,
      "outputs": []
    },
    {
      "cell_type": "code",
      "source": [
        "hotels['data'][0]"
      ],
      "metadata": {
        "colab": {
          "base_uri": "https://localhost:8080/"
        },
        "id": "bdPyuja3Cf_m",
        "outputId": "e43caf68-392e-4467-ea40-c098969251ad"
      },
      "execution_count": null,
      "outputs": [
        {
          "output_type": "execute_result",
          "data": {
            "text/plain": [
              "{'id': 122460,\n",
              " 'prod_oid': 122460,\n",
              " 'name': '【58折起優惠】桃園.新竹汽車旅館 | 168 motel 休息券',\n",
              " 'introduction': '現在購買 168 旅館休息券,在頂級的環境放鬆身心!使用 5 星級飯店御用名床斯林百蘭,可享受奈米牛奶浴與採光良好的天井,提供你最頂級的休息體驗!',\n",
              " 'rating_count': 70,\n",
              " 'rating_star': 4.61,\n",
              " 'order_count': 2047,\n",
              " 'show_order_count': '2K+',\n",
              " 'confirm_hour': 0,\n",
              " 'instant_booking': True,\n",
              " 'instant_use': False,\n",
              " 'free_refund_policy': True,\n",
              " 'free_refund_before_day': 0,\n",
              " 'earliest_sale_date': '20250402',\n",
              " 'sale_status': '1',\n",
              " 'purchase_type': None,\n",
              " 'purchase_date': None,\n",
              " 'is_tourism_product': False,\n",
              " 'readable_url': None,\n",
              " 'main_cat_key': 'M05',\n",
              " 'product_category': {'main': 'CATEGORY_078', 'sub': []},\n",
              " 'promo_tag_keys': [],\n",
              " 'cat_key': ['TAG_6_1'],\n",
              " 'theme_code': [],\n",
              " 'product_labels': [],\n",
              " 'img_url': 'https://image.kkday.com/image/get/w_600%2Cc_fit/s1.kkday.com/product_122460/20210820044401_CRylD/jpg',\n",
              " 'img_url_list': ['https://image.kkday.com/image/get/w_600%2Cc_fit/s1.kkday.com/product_122460/20210820044401_CRylD/jpg',\n",
              "  'https://image.kkday.com/image/get/w_600%2Cc_fit/s1.kkday.com/product_122460/20210820044403_Zn3LW/jpg',\n",
              "  'https://image.kkday.com/image/get/w_600%2Cc_fit/s1.kkday.com/product_122460/20210820044405_bnVjX/jpg',\n",
              "  'https://image.kkday.com/image/get/w_600%2Cc_fit/s1.kkday.com/product_122460/20210820044359_i0bVu/jpg',\n",
              "  'https://image.kkday.com/image/get/w_600%2Cc_fit/s1.kkday.com/product_122460/20210820044402_Nl5hY/jpg',\n",
              "  'https://image.kkday.com/image/get/w_600%2Cc_fit/s1.kkday.com/product_122460/20210820044403_5lpKM/jpg',\n",
              "  'https://image.kkday.com/image/get/w_600%2Cc_fit/s1.kkday.com/product_122460/20210820044405_hWGuj/jpg',\n",
              "  'https://image.kkday.com/image/get/w_600%2Cc_fit/s1.kkday.com/product_122460/20210820044400_QComj/jpg'],\n",
              " 'duration': 0,\n",
              " 'days': 0,\n",
              " 'hours': 0,\n",
              " 'minutes': 0,\n",
              " 'currency': 'TWD',\n",
              " 'display_sale_price': '1,200',\n",
              " 'sale_price': 1200,\n",
              " 'display_price': '699',\n",
              " 'price': 699,\n",
              " 'discount': 0.4175,\n",
              " 'is_display_price': True,\n",
              " 'app_cheaper_than_web': False,\n",
              " 'max_price': 799,\n",
              " 'countries': [{'id': 'A01-001',\n",
              "   'name': '台灣',\n",
              "   'cities': [{'id': 'A01-001-99999', 'name': '所有城市'},\n",
              "    {'id': 'A01-001-00009', 'name': '新竹'},\n",
              "    {'id': 'A01-001-00008', 'name': '桃園'}]}],\n",
              " 'is_marketplace': False,\n",
              " 'supplier_oid_list': ['6609'],\n",
              " 'supplier_name': None,\n",
              " 'supplier_logo': None,\n",
              " 'supplier_award': 0,\n",
              " 'supplier_badge': 0,\n",
              " 'is_zero_price': False,\n",
              " 'destinations': [{'code': 'D-TW-4728', 'name': '新竹'},\n",
              "  {'code': 'D-TW-4742', 'name': '桃園'},\n",
              "  {'code': 'D-TW-225', 'name': '台灣'}]}"
            ]
          },
          "metadata": {},
          "execution_count": 19
        }
      ]
    },
    {
      "cell_type": "code",
      "source": [
        "from IPython.display import Image,display\n",
        "\n",
        "for hotel in hotels['data']:\n",
        "    print(hotel['name'],hotel['rating_star'],hotel['sale_price'])\n",
        "    print(hotel['introduction'])\n",
        "    display(Image(url=hotel['img_url'],width=300))\n",
        "    print(\"-\"*3)\n",
        "    print()"
      ],
      "metadata": {
        "colab": {
          "base_uri": "https://localhost:8080/",
          "height": 1000
        },
        "id": "JFPOqQ6KC11J",
        "outputId": "747e585e-6c3e-405b-9aa3-545fe848a5d9"
      },
      "execution_count": null,
      "outputs": [
        {
          "output_type": "stream",
          "name": "stdout",
          "text": [
            "【58折起優惠】桃園.新竹汽車旅館 | 168 motel 休息券 4.61 1200\n",
            "現在購買 168 旅館休息券,在頂級的環境放鬆身心!使用 5 星級飯店御用名床斯林百蘭,可享受奈米牛奶浴與採光良好的天井,提供你最頂級的休息體驗!\n"
          ]
        },
        {
          "output_type": "display_data",
          "data": {
            "text/html": [
              "<img src=\"https://image.kkday.com/image/get/w_600%2Cc_fit/s1.kkday.com/product_122460/20210820044401_CRylD/jpg\" width=\"300\"/>"
            ],
            "text/plain": [
              "<IPython.core.display.Image object>"
            ]
          },
          "metadata": {}
        },
        {
          "output_type": "stream",
          "name": "stdout",
          "text": [
            "---\n",
            "\n",
            "苗栗親子飯店|尚順君樂飯店 Grand Royal Hotel|保證有房 4.69 9680\n",
            "立即在 KKday 下訂尚順君樂飯店,苗栗住宿輕鬆搞定!苗栗尚順君樂飯店,座落北苗栗首善之區頭份市中心的尚順育樂世界,台灣西部新地標,首座都會型城市觀光地區!結合尚順購物中心與尚順育樂天地,吃喝玩樂一次滿足,闔家出遊度假首選!\n"
          ]
        },
        {
          "output_type": "display_data",
          "data": {
            "text/html": [
              "<img src=\"https://image.kkday.com/image/get/w_600%2Cc_fit/s1.kkday.com/product_166162/20240627112750_mBCDL/jpg\" width=\"300\"/>"
            ],
            "text/plain": [
              "<IPython.core.display.Image object>"
            ]
          },
          "metadata": {}
        },
        {
          "output_type": "stream",
          "name": "stdout",
          "text": [
            "---\n",
            "\n",
            "【64折優惠】桃園潮旅館|休息券 4.73 1400\n",
            "現在購買潮旅館休息券,輕鬆搞定桃園住宿!揪親朋好友一起住!全台首創館內設有電動車充電站,客房採用五星級飯店御用斯林百蘭頂級名床、LG 空氣清淨機,充滿設計感的客房,睡得舒適住的新潮。\n"
          ]
        },
        {
          "output_type": "display_data",
          "data": {
            "text/html": [
              "<img src=\"https://image.kkday.com/image/get/w_600%2Cc_fit/s1.kkday.com/product_122473/20210820074125_eRls7/jpg\" width=\"300\"/>"
            ],
            "text/plain": [
              "<IPython.core.display.Image object>"
            ]
          },
          "metadata": {}
        },
        {
          "output_type": "stream",
          "name": "stdout",
          "text": [
            "---\n",
            "\n",
            "【限時2折】苗栗西湖渡假村|夢幻桐花祭特惠住宿|平日雙人套房一泊三食|加贈 4000 元住宿抵用券 4.62 17419\n",
            "立即預訂「西湖渡假村夢幻桐花祭特惠住宿專案」,2 人同行一泊三食,只要 3,600 元!享受清晨漫步林間,遠離社會吵雜的塵囂,早晨散步穿越霧氣逐漸飄散的步道,或在星空點點的夜空下伴隨蛙鳴入眠,宛若置身歐洲般愜意悠閒!\n"
          ]
        },
        {
          "output_type": "display_data",
          "data": {
            "text/html": [
              "<img src=\"https://image.kkday.com/image/get/w_600%2Cc_fit/s1.kkday.com/product_116824/20250325025409_TFQFH/jpg\" width=\"300\"/>"
            ],
            "text/plain": [
              "<IPython.core.display.Image object>"
            ]
          },
          "metadata": {}
        },
        {
          "output_type": "stream",
          "name": "stdout",
          "text": [
            "---\n",
            "\n",
            "台北喜來登大飯店|親子主題房 4.6 17000\n",
            "現在預訂台北喜來登大飯店住宿,輕鬆搞定台北住宿!台北喜來登共擁有 688 間全新設計裝潢的各式客房及套房,及多間中、西、日、泰式異國美食餐廳,提供賓客最豐富精采的食宿享受。傳承三十餘年來一貫溫婉細膩的服務精神,台北喜來登誠摯邀請您一同驗證這場充滿感動與驚喜的時尚風華再現!\n"
          ]
        },
        {
          "output_type": "display_data",
          "data": {
            "text/html": [
              "<img src=\"https://image.kkday.com/image/get/w_600%2Cc_fit/s1.kkday.com/product_114932/20220628083751_H4Rp5/jpg\" width=\"300\"/>"
            ],
            "text/plain": [
              "<IPython.core.display.Image object>"
            ]
          },
          "metadata": {}
        },
        {
          "output_type": "stream",
          "name": "stdout",
          "text": [
            "---\n",
            "\n",
            "【64折優惠】桃園六星旅館|休息券 4.57 1400\n",
            "現在購買六星旅館休息券,輕鬆搞定桃園住宿!中壢館頂級音響與 KTV 歡唱設備,清水模設計旅館,超大坪數+頂級雙人按摩浴缸。桃園館偶像劇指定取景拍攝,斯林柏蘭頂級名床+環繞音響+絕美浴缸,住的享受有奢華。\n"
          ]
        },
        {
          "output_type": "display_data",
          "data": {
            "text/html": [
              "<img src=\"https://image.kkday.com/image/get/w_600%2Cc_fit/s1.kkday.com/product_122469/20210820070245_LFlKf/jpg\" width=\"300\"/>"
            ],
            "text/plain": [
              "<IPython.core.display.Image object>"
            ]
          },
          "metadata": {}
        },
        {
          "output_type": "stream",
          "name": "stdout",
          "text": [
            "---\n",
            "\n",
            "夜宿屏東海生館體驗|標準行程・季節套裝行程 4.8 2680\n",
            "「和大家分享海洋夜晚的樣貌吧!」一群熱愛海洋的工作人員開始籌畫,如何改建現有的硬體設備、設計與海洋生物親近的體驗活動、親身探索夜晚中海洋的秘密,立即透過 KKday 預訂夜宿屏東海生館一晚,盡情享受與魚群一同入睡的獨特體驗!自由選擇入住區域:珊瑚王國、世界水域、台灣水域。包含季節限定套裝行程,提供春季「 觀珊望海」、夏季「鹽語船情」、秋季「蟹逅」、冬季「踏水巡田」的限定活動,價格實惠又方便。夜宿海生館與白天參觀海生館絕對是不一樣的體驗,活動多元豐富,肯定是一個難忘的回憶!\n"
          ]
        },
        {
          "output_type": "display_data",
          "data": {
            "text/html": [
              "<img src=\"https://image.kkday.com/image/get/w_600%2Cc_fit/s1.kkday.com/product_1894/20200811102345_gQfxj/jpg\" width=\"300\"/>"
            ],
            "text/plain": [
              "<IPython.core.display.Image object>"
            ]
          },
          "metadata": {}
        },
        {
          "output_type": "stream",
          "name": "stdout",
          "text": [
            "---\n",
            "\n",
            "桃園 i hotel 電競旅館|休息券 4.82 1000\n",
            "現在購買  i hotel 休息券,輕鬆搞定桃園住宿!亞洲首家、台灣唯一全球玩家爭相朝聖的電競旅館,在桃園! i hotel 電競旅館,是全台灣唯一與電競結合之特色旅館。全館採用電競規格設備,讓旅客一次擁有最棒的電玩及旅宿體驗!\n"
          ]
        },
        {
          "output_type": "display_data",
          "data": {
            "text/html": [
              "<img src=\"https://image.kkday.com/image/get/w_600%2Cc_fit/s1.kkday.com/product_122466/20210820063320_sHJub/jpg\" width=\"300\"/>"
            ],
            "text/plain": [
              "<IPython.core.display.Image object>"
            ]
          },
          "metadata": {}
        },
        {
          "output_type": "stream",
          "name": "stdout",
          "text": [
            "---\n",
            "\n",
            "台北|北投會館捷之旅|免費預約參加捷運北投機廠逃生體驗營導覽 4.66 5500\n",
            "現在預訂北投會館捷之旅,輕鬆搞定台北住宿!位於捷運復興崗站 2 號出口 (北投機廠內),鄰近北投溫泉區,面向關渡平原、遠眺陽明山,提供雅潔舒適的住宿環境,令您身心舒暢,呼吸著關渡平原的寧靜入眠。\n"
          ]
        },
        {
          "output_type": "display_data",
          "data": {
            "text/html": [
              "<img src=\"https://image.kkday.com/image/get/w_600%2Cc_fit/s1.kkday.com/product_133510/20241203114959_XrcDW/jpg\" width=\"300\"/>"
            ],
            "text/plain": [
              "<IPython.core.display.Image object>"
            ]
          },
          "metadata": {}
        },
        {
          "output_type": "stream",
          "name": "stdout",
          "text": [
            "---\n",
            "\n",
            "澎湖住宿|福朋喜來登酒店 4.77 4930\n",
            "現在預訂福朋喜來登酒店住宿,輕鬆搞定澎湖住宿!酒店座落馬公第三漁港旁,180 度廣角眺望咫尺灣景,超高燈塔建築意象、配佐珊瑚沙外牆綠建築,完美呼應海港特色風情。331 間現代簡約套房、港景無邊際戶外泳池,等待您徜徉於海天一線間、時尚潮酷的微浮酒吧、網羅在地時令鮮味的中西餐廳、SPA 芳療、三溫暖蒸氣室、兒童遊憩室、健身房等休閒空間,完美打造澎湖新型態假期饗宴,盡情尊享澎湖之美。\n"
          ]
        },
        {
          "output_type": "display_data",
          "data": {
            "text/html": [
              "<img src=\"https://image.kkday.com/image/get/w_600%2Cc_fit/s1.kkday.com/product_116425/20210309034856_8EDSu/jpg\" width=\"300\"/>"
            ],
            "text/plain": [
              "<IPython.core.display.Image object>"
            ]
          },
          "metadata": {}
        },
        {
          "output_type": "stream",
          "name": "stdout",
          "text": [
            "---\n",
            "\n"
          ]
        }
      ]
    },
    {
      "cell_type": "code",
      "source": [],
      "metadata": {
        "id": "vYkNzGE5DPrD"
      },
      "execution_count": null,
      "outputs": []
    }
  ]
}